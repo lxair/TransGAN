{
 "cells": [
  {
   "cell_type": "code",
   "execution_count": 1,
   "metadata": {},
   "outputs": [
    {
     "name": "stdout",
     "output_type": "stream",
     "text": [
      "ModuleNotFoundError. CatBoostModel are skipped. (optional: maybe installing CatBoostModel can fix it.)\n",
      "ModuleNotFoundError. XGBModel is skipped(optional: maybe installing xgboost can fix it).\n"
     ]
    },
    {
     "name": "stderr",
     "output_type": "stream",
     "text": [
      "/home/shared/anaconda3/envs/seg/lib/python3.8/site-packages/tqdm/auto.py:22: TqdmWarning: IProgress not found. Please update jupyter and ipywidgets. See https://ipywidgets.readthedocs.io/en/stable/user_install.html\n",
      "  from .autonotebook import tqdm as notebook_tqdm\n",
      "[18902:MainThread](2023-04-11 10:11:14,062) INFO - qlib.Initialization - [config.py:413] - default_conf: client.\n",
      "[18902:MainThread](2023-04-11 10:11:14,068) INFO - qlib.workflow - [expm.py:31] - experiment manager uri is at file:/home/shared/qlib-main/mlruns\n",
      "[18902:MainThread](2023-04-11 10:11:14,070) INFO - qlib.Initialization - [__init__.py:74] - qlib successfully initialized based on client settings.\n",
      "[18902:MainThread](2023-04-11 10:11:14,071) INFO - qlib.Initialization - [__init__.py:76] - data_path={'__DEFAULT_FREQ': PosixPath('/home/shared/qlib-main/qlib_data/cn_data')}\n",
      "[18902:MainThread](2023-04-11 10:11:14,217) INFO - qlib.TransformerModel - [pytorch_transformer_ts.py:62] - Naive Transformer:\n",
      "batch_size : 256\n",
      "device : cuda:3\n",
      "[18902:MainThread](2023-04-11 10:11:22,874) INFO - qlib.timer - [log.py:117] - Time cost: 6.104s | Loading data Done\n",
      "[18902:MainThread](2023-04-11 10:11:22,884) INFO - qlib.timer - [log.py:117] - Time cost: 0.002s | FilterCol Done\n",
      "[18902:MainThread](2023-04-11 10:11:22,899) INFO - qlib.timer - [log.py:117] - Time cost: 0.012s | RobustZScoreNorm Done\n",
      "[18902:MainThread](2023-04-11 10:11:22,902) INFO - qlib.timer - [log.py:117] - Time cost: 0.002s | Fillna Done\n",
      "[18902:MainThread](2023-04-11 10:11:22,906) INFO - qlib.timer - [log.py:117] - Time cost: 0.002s | DropnaLabel Done\n",
      "[18902:MainThread](2023-04-11 10:11:22,913) INFO - qlib.timer - [log.py:117] - Time cost: 0.005s | CSRankNorm Done\n",
      "[18902:MainThread](2023-04-11 10:11:22,914) INFO - qlib.timer - [log.py:117] - Time cost: 0.038s | fit & process data Done\n",
      "[18902:MainThread](2023-04-11 10:11:22,916) INFO - qlib.timer - [log.py:117] - Time cost: 6.146s | Init data Done\n"
     ]
    }
   ],
   "source": [
    "import sys\n",
    "from pathlib import Path\n",
    "import qlib\n",
    "import pandas as pd\n",
    "from qlib.config import REG_CN\n",
    "from qlib.contrib.model.gbdt import LGBModel\n",
    "from qlib.contrib.data.handler import Alpha360\n",
    "from qlib.utils import init_instance_by_config\n",
    "from qlib.contrib.strategy import TopkDropoutStrategy\n",
    "from qlib.contrib.report import analysis_model, analysis_position\n",
    "# from qlib.contrib.evaluate import (\n",
    "#     backtest as normal_backtest,\n",
    "#     risk_analysis,\n",
    "# )\n",
    "from qlib.utils import exists_qlib_data, init_instance_by_config, flatten_dict\n",
    "from qlib.workflow import R\n",
    "from qlib.workflow.record_temp import SignalRecord, PortAnaRecord\n",
    "from qlib.utils import flatten_dict\n",
    "from qlib.data.dataset.loader import QlibDataLoader\n",
    "from qlib.contrib.data.handler import Alpha158   #Alpha158内置指标体系\n",
    "from qlib.data.dataset.loader import QlibDataLoader\n",
    "import qlib\n",
    "from qlib.contrib.data.handler import Alpha158   #Alpha158内置指标体系\n",
    "provider_uri = \"./qlib_data/cn_data\"  # 原始行情数据存放目录\n",
    "qlib.init(provider_uri=provider_uri, region=REG_CN)  # 初始化\n",
    "market = \"csi100\"\n",
    "benchmark = \"SH000300\"\n",
    "\n",
    " #数据处理器参数配置\n",
    "data_handler_config = {\n",
    "    \"start_time\": \"2020-01-01\",\n",
    "    \"end_time\": \"2020-02-21\",\n",
    "    \"fit_start_time\": \"2020-01-01\",  # 模型跑数据的开始时间\n",
    "    \"fit_end_time\": \"2020-01-31\",\n",
    "    \"instruments\": market,\n",
    "    \"infer_processors\" : [\n",
    "                                    {'class': 'FilterCol',##过滤器\n",
    "                                     'kwargs': {'fields_group': 'feature', 'col_list': [\"KMID\",\"KLOW\",\"OPEN0\"]\n",
    "                                     }},\n",
    "                                    {'class': 'RobustZScoreNorm', # RobustZScoreNorm和Fillna，用于进行标准化和填充缺失值。\n",
    "                                     'kwargs': {'fields_group': 'feature', 'clip_outlier': True}},\n",
    "                                    {'class': 'Fillna', 'kwargs': {'fields_group': 'feature'}}],\n",
    "    \"learn_processors\": [{'class': 'DropnaLabel'}, #DropnaLabel删除标注中含有缺失值的样本。\n",
    "\n",
    "                                    # 对预测的目标进行截面排序处理  DropnaLabel 和 CSRankNorm 预处理器，用于对标签进行处理。\n",
    "                                    {'class': 'CSRankNorm', 'kwargs': {'fields_group': 'label'}}],\n",
    "\n",
    "                                    # 预测的目标\n",
    "                                    'label': [\"Ref($close, -2) / Ref($close, -1) - 1\"] ,#下一日收益率, Ref($close, -1)表示下一日收盘价\n",
    "                                    #'label': ['Ref($close, -1)'],\n",
    "}\n",
    "    \n",
    "\n",
    "\n",
    "# 任务参数配置\n",
    "task = {\n",
    "    \"model\": {  # 模型参数配置\n",
    "        # 模型类\n",
    "        \"class\": \"TransformerModel\",\n",
    "        # 模型类所在模块\n",
    "        \"module_path\": \"qlib.contrib.model.pytorch_transformer_ts\",\n",
    "        \"kwargs\": {  # 模型超参数配置\n",
    "            \"seed\": 0,\n",
    "            \"n_jobs\": 20,\n",
    "        }, \n",
    "    },\n",
    "    \"dataset\": {  # 　因子库数据集参数配置\n",
    "        # 数据集类，是Dataset with Data(H)andler的缩写，即带数据处理器的数据集\n",
    "        \"class\": \"TSDatasetH\",\n",
    "        # 数据集类所在模块\n",
    "        \"module_path\": \"qlib.data.dataset\",\n",
    "        \"kwargs\": {  # 数据集参数配置\n",
    "            \"handler\": {  # 数据集使用的数据处理器配置\n",
    "                #\"class\": \"Alpha158\",  # 数据处理器类，继承自DataHandlerLP\n",
    "                \"module_path\": \"qlib.contrib.data.handler\",  # 数据处理器类所在模块\n",
    "                \"class\": \"Alpha158\",\n",
    "                \"kwargs\": data_handler_config,  # 数据处理器参数配置\n",
    "            },\n",
    "             \"segments\": {  # 数据集划分标准\n",
    "                \"train\": (\"2020-01-01\", \"2020-01-31\"),  # 此时段的数据为训练集\n",
    "                \"valid\": (\"2020-01-31\", \"2020-02-20\"),  # 此时段的数据为验证集\n",
    "                \"test\": (\"2020-02-20\", \"2020-02-21\"),  # 此时段的数据为测试集\n",
    "            },\n",
    "        },\n",
    "    },\n",
    "\n",
    "}\n",
    "\n",
    "\n",
    "# 实例化模型对象\n",
    "model = init_instance_by_config(task[\"model\"])\n",
    "\n",
    "# 实例化因子库数据集，从基础行情数据计算出的包含所有特征（因子）和标签值的数据集。\n",
    "dataset = init_instance_by_config(task[\"dataset\"])  # DatasetH\n"
   ]
  },
  {
   "cell_type": "code",
   "execution_count": 2,
   "metadata": {},
   "outputs": [
    {
     "name": "stderr",
     "output_type": "stream",
     "text": [
      "[18902:MainThread](2023-04-11 10:11:22,961) INFO - qlib.workflow - [expm.py:316] - <mlflow.tracking.client.MlflowClient object at 0x7fde2c436610>\n",
      "[18902:MainThread](2023-04-11 10:11:22,970) INFO - qlib.workflow - [exp.py:260] - Experiment 1 starts running ...\n",
      "[18902:MainThread](2023-04-11 10:11:23,746) INFO - qlib.workflow - [recorder.py:339] - Recorder dde3eefc4f2c402a9fb456d0da196233 starts running under Experiment 1 ...\n",
      "Not a git repository\n",
      "To compare two paths outside a working tree:\n",
      "usage: git diff [--no-index] <path> <path>\n",
      "[18902:MainThread](2023-04-11 10:11:23,866) INFO - qlib.workflow - [recorder.py:372] - Fail to log the uncommitted code of $CWD when run `git diff`\n",
      "fatal: 不是一个 git 仓库（或者直至挂载点 / 的任何父目录）\n",
      "停止在文件系统边界（未设置 GIT_DISCOVERY_ACROSS_FILESYSTEM）。\n",
      "[18902:MainThread](2023-04-11 10:11:23,976) INFO - qlib.workflow - [recorder.py:372] - Fail to log the uncommitted code of $CWD when run `git status`\n",
      "Not a git repository\n",
      "To compare two paths outside a working tree:\n",
      "[18902:MainThread](2023-04-11 10:11:24,079) INFO - qlib.workflow - [recorder.py:372] - Fail to log the uncommitted code of $CWD when run `git diff --cached`\n",
      "usage: git diff [--no-index] <path> <path>\n",
      "[18902:MainThread](2023-04-11 10:11:24,121) INFO - qlib.TransformerModel - [pytorch_transformer_ts.py:200] - training...\n",
      "[18902:MainThread](2023-04-11 10:11:24,124) INFO - qlib.TransformerModel - [pytorch_transformer_ts.py:204] - Epoch0:\n",
      "[18902:MainThread](2023-04-11 10:11:24,126) INFO - qlib.TransformerModel - [pytorch_transformer_ts.py:205] - training...\n",
      "[18902:MainThread](2023-04-11 10:11:26,362) INFO - qlib.TransformerModel - [pytorch_transformer_ts.py:207] - evaluating...\n",
      "[18902:MainThread](2023-04-11 10:11:29,088) INFO - qlib.TransformerModel - [pytorch_transformer_ts.py:210] - train -1.012155, valid -0.998629\n",
      "[18902:MainThread](2023-04-11 10:11:29,095) INFO - qlib.TransformerModel - [pytorch_transformer_ts.py:204] - Epoch1:\n",
      "[18902:MainThread](2023-04-11 10:11:29,097) INFO - qlib.TransformerModel - [pytorch_transformer_ts.py:205] - training...\n",
      "[18902:MainThread](2023-04-11 10:11:30,614) INFO - qlib.TransformerModel - [pytorch_transformer_ts.py:207] - evaluating...\n",
      "[18902:MainThread](2023-04-11 10:11:33,208) INFO - qlib.TransformerModel - [pytorch_transformer_ts.py:210] - train -1.006042, valid -0.993961\n",
      "[18902:MainThread](2023-04-11 10:11:33,216) INFO - qlib.TransformerModel - [pytorch_transformer_ts.py:204] - Epoch2:\n",
      "[18902:MainThread](2023-04-11 10:11:33,218) INFO - qlib.TransformerModel - [pytorch_transformer_ts.py:205] - training...\n",
      "[18902:MainThread](2023-04-11 10:11:34,411) INFO - qlib.TransformerModel - [pytorch_transformer_ts.py:207] - evaluating...\n",
      "[18902:MainThread](2023-04-11 10:11:36,937) INFO - qlib.TransformerModel - [pytorch_transformer_ts.py:210] - train -1.001736, valid -0.993660\n",
      "[18902:MainThread](2023-04-11 10:11:36,945) INFO - qlib.TransformerModel - [pytorch_transformer_ts.py:225] - best score: -0.993660 @ 2\n",
      "[18902:MainThread](2023-04-11 10:11:37,262) INFO - qlib.timer - [log.py:117] - Time cost: 0.000s | waiting `async_log` Done\n"
     ]
    }
   ],
   "source": [
    "# start exp to train model\n",
    "with R.start(experiment_name=\"train_model\"):\n",
    "    R.log_params(**flatten_dict(task))\n",
    "    model.fit(dataset)\n",
    "    R.save_objects(trained_model=model)\n",
    "    rid = R.get_recorder().id"
   ]
  },
  {
   "cell_type": "code",
   "execution_count": 3,
   "metadata": {},
   "outputs": [
    {
     "name": "stderr",
     "output_type": "stream",
     "text": [
      "[18902:MainThread](2023-04-11 10:11:37,313) INFO - qlib.workflow - [expm.py:316] - <mlflow.tracking.client.MlflowClient object at 0x7fde05e86850>\n",
      "[18902:MainThread](2023-04-11 10:11:37,319) INFO - qlib.workflow - [exp.py:260] - Experiment 2 starts running ...\n",
      "[18902:MainThread](2023-04-11 10:11:37,581) INFO - qlib.workflow - [recorder.py:339] - Recorder 9c015de5afe34fe2b8872aac27c27b7d starts running under Experiment 2 ...\n",
      "Not a git repository\n",
      "To compare two paths outside a working tree:\n",
      "usage: git diff [--no-index] <path> <path>\n",
      "[18902:MainThread](2023-04-11 10:11:37,686) INFO - qlib.workflow - [recorder.py:372] - Fail to log the uncommitted code of $CWD when run `git diff`\n",
      "fatal: 不是一个 git 仓库（或者直至挂载点 / 的任何父目录）\n",
      "停止在文件系统边界（未设置 GIT_DISCOVERY_ACROSS_FILESYSTEM）。\n",
      "[18902:MainThread](2023-04-11 10:11:37,810) INFO - qlib.workflow - [recorder.py:372] - Fail to log the uncommitted code of $CWD when run `git status`\n",
      "Not a git repository\n",
      "To compare two paths outside a working tree:\n",
      "usage: git diff [--no-index] <path> <path>\n",
      "[18902:MainThread](2023-04-11 10:11:37,915) INFO - qlib.workflow - [recorder.py:372] - Fail to log the uncommitted code of $CWD when run `git diff --cached`\n",
      "[18902:MainThread](2023-04-11 10:11:39,152) INFO - qlib.workflow - [record_temp.py:194] - Signal record 'pred.pkl' has been saved as the artifact of the Experiment 2\n",
      "[18902:MainThread](2023-04-11 10:11:39,174) INFO - qlib.backtest caller - [__init__.py:94] - Create new exchange\n"
     ]
    },
    {
     "name": "stdout",
     "output_type": "stream",
     "text": [
      "'The following are prediction results of the TransformerModel model.'\n",
      "                          score\n",
      "datetime   instrument          \n",
      "2020-02-20 SH600000   -0.050197\n",
      "           SH600009   -0.010594\n",
      "           SH600010   -0.037887\n",
      "           SH600011   -0.023446\n",
      "           SH600015   -0.009636\n"
     ]
    },
    {
     "name": "stderr",
     "output_type": "stream",
     "text": [
      "[18902:MainThread](2023-04-11 10:11:45,081) WARNING - qlib.online operator - [exchange.py:216] - factor.day.bin file not exists or factor contains `nan`. Order using adjusted_price.\n",
      "[18902:MainThread](2023-04-11 10:11:45,083) WARNING - qlib.online operator - [exchange.py:218] - trade unit 100 is not supported in adjusted_price mode.\n",
      "[18902:MainThread](2023-04-11 10:11:50,285) WARNING - qlib.data - [data.py:662] - load calendar error: freq=day, future=True; return current calendar!\n",
      "[18902:MainThread](2023-04-11 10:11:50,289) WARNING - qlib.data - [data.py:665] - You can get future calendar by referring to the following document: https://github.com/microsoft/qlib/blob/main/scripts/data_collector/contrib/README.md\n",
      "[18902:MainThread](2023-04-11 10:11:50,319) WARNING - qlib.BaseExecutor - [executor.py:121] - `common_infra` is not set for <qlib.backtest.executor.SimulatorExecutor object at 0x7fde0501ed90>\n",
      "backtest loop: 100%|██████████| 871/871 [00:01<00:00, 453.41it/s]\n",
      "[18902:MainThread](2023-04-11 10:11:52,507) INFO - qlib.workflow - [record_temp.py:499] - Portfolio analysis record 'port_analysis_1day.pkl' has been saved as the artifact of the Experiment 2\n",
      "[18902:MainThread](2023-04-11 10:11:52,520) INFO - qlib.workflow - [record_temp.py:524] - Indicator analysis record 'indicator_analysis_1day.pkl' has been saved as the artifact of the Experiment 2\n",
      "[18902:MainThread](2023-04-11 10:11:52,685) INFO - qlib.timer - [log.py:117] - Time cost: 0.000s | waiting `async_log` Done\n"
     ]
    },
    {
     "name": "stdout",
     "output_type": "stream",
     "text": [
      "'The following are analysis results of benchmark return(1day).'\n",
      "                       risk\n",
      "mean               0.000477\n",
      "std                0.012295\n",
      "annualized_return  0.113561\n",
      "information_ratio  0.598699\n",
      "max_drawdown      -0.370479\n",
      "'The following are analysis results of the excess return without cost(1day).'\n",
      "                       risk\n",
      "mean              -0.000361\n",
      "std                0.011068\n",
      "annualized_return -0.085811\n",
      "information_ratio -0.502547\n",
      "max_drawdown      -0.408840\n",
      "'The following are analysis results of the excess return with cost(1day).'\n",
      "                       risk\n",
      "mean              -0.000361\n",
      "std                0.011068\n",
      "annualized_return -0.085998\n",
      "information_ratio -0.503632\n",
      "max_drawdown      -0.409524\n",
      "'The following are analysis results of indicators(1day).'\n",
      "     value\n",
      "ffr    1.0\n",
      "pa     0.0\n",
      "pos    0.0\n"
     ]
    }
   ],
   "source": [
    "###################################\n",
    "# prediction, backtest & analysis\n",
    "###################################\n",
    "port_analysis_config = {\n",
    "    \"executor\": {\n",
    "        \"class\": \"SimulatorExecutor\",\n",
    "        \"module_path\": \"qlib.backtest.executor\",\n",
    "        \"kwargs\": {\n",
    "            \"time_per_step\": \"day\",\n",
    "            \"generate_portfolio_metrics\": True,\n",
    "        },\n",
    "    },\n",
    "    \"strategy\": {\n",
    "        \"class\": \"TopkDropoutStrategy\",\n",
    "        \"module_path\": \"qlib.contrib.strategy\",\n",
    "        \"kwargs\": {\n",
    "            \"model\": model,\n",
    "            \"dataset\": dataset,\n",
    "            \"topk\": 50,\n",
    "            \"n_drop\": 5,\n",
    "        },\n",
    "    },\n",
    "    \"backtest\": {\n",
    "        \"start_time\": \"2017-01-01\",\n",
    "        \"end_time\": \"2020-08-01\",\n",
    "        \"account\": 100000000,\n",
    "        \"benchmark\": benchmark,\n",
    "        \"exchange_kwargs\": {\n",
    "            \"freq\": \"day\",\n",
    "            \"limit_threshold\": 0.095,\n",
    "            \"deal_price\": \"close\",\n",
    "            \"open_cost\": 0.0005,\n",
    "            \"close_cost\": 0.0015,\n",
    "            \"min_cost\": 5,\n",
    "        },\n",
    "    },\n",
    "}\n",
    "\n",
    "# backtest and analysis\n",
    "with R.start(experiment_name=\"backtest_analysis\"):\n",
    "    recorder = R.get_recorder(recorder_id=rid, experiment_name=\"train_model\")\n",
    "    model = recorder.load_object(\"trained_model\")\n",
    "\n",
    "    # prediction\n",
    "    recorder = R.get_recorder()\n",
    "    ba_rid = recorder.id\n",
    "    sr = SignalRecord(model, dataset, recorder)\n",
    "    sr.generate()\n",
    "\n",
    "    # backtest & analysis\n",
    "    par = PortAnaRecord(recorder, port_analysis_config, \"day\")\n",
    "    par.generate()"
   ]
  },
  {
   "cell_type": "code",
   "execution_count": 4,
   "metadata": {},
   "outputs": [
    {
     "name": "stdout",
     "output_type": "stream",
     "text": [
      "                          score     label\n",
      "datetime   instrument                    \n",
      "2020-02-20 SH600000   -0.050197 -0.012389\n",
      "           SH600009   -0.010594 -0.038657\n",
      "           SH600010   -0.037887 -0.008197\n",
      "           SH600011   -0.023446 -0.014000\n",
      "           SH600015   -0.009636 -0.005563\n",
      "...                         ...       ...\n",
      "2020-02-21 SZ002594   -0.101260  0.070242\n",
      "           SZ002736   -0.059008 -0.002357\n",
      "           SZ300015    0.000146 -0.007494\n",
      "           SZ300059   -0.098773  0.069132\n",
      "           SZ300498   -0.060566  0.006787\n",
      "\n",
      "[200 rows x 2 columns]\n"
     ]
    }
   ],
   "source": [
    "\n",
    "# 从实验记录器加载保存在pkl文件中的预测结果数据\n",
    "pred_df = recorder.load_object(\"pred.pkl\")\n",
    "\n",
    "# 从实验记录器加载保存在pkl文件中的标签数据\n",
    "label_df = recorder.load_object(\"label.pkl\")\n",
    "label_df.columns = ['label']\n",
    "\n",
    "# 构造预测值和标签值并列的df\n",
    "pred_label = pd.concat([pred_df, label_df], axis=1, sort=True).reindex(label_df.index)\n",
    "\n",
    "print(pred_label)\n"
   ]
  },
  {
   "cell_type": "code",
   "execution_count": 5,
   "metadata": {},
   "outputs": [
    {
     "data": {
      "text/plain": [
       "109"
      ]
     },
     "execution_count": 5,
     "metadata": {},
     "output_type": "execute_result"
    }
   ],
   "source": [
    "import numpy as np\n",
    "# 计算预测值和标签值的正负号\n",
    "pred_sign = np.sign(pred_label[\"score\"])\n",
    "label_sign = np.sign(pred_label[\"label\"])\n",
    "\n",
    "# 统计正负号相同的数量\n",
    "same_sign_count = np.sum(pred_sign == label_sign)\n",
    "same_sign_count"
   ]
  },
  {
   "cell_type": "code",
   "execution_count": 6,
   "metadata": {},
   "outputs": [
    {
     "data": {
      "text/plain": [
       "0.545"
      ]
     },
     "execution_count": 6,
     "metadata": {},
     "output_type": "execute_result"
    }
   ],
   "source": [
    "# 计算出两列数据正负号相同的比例\n",
    "corr_pct = (pred_label['score'] * pred_label['label'] > 0).mean()\n",
    "corr_pct\n"
   ]
  }
 ],
 "metadata": {
  "kernelspec": {
   "display_name": "Python 3",
   "language": "python",
   "name": "python3"
  },
  "language_info": {
   "codemirror_mode": {
    "name": "ipython",
    "version": 3
   },
   "file_extension": ".py",
   "mimetype": "text/x-python",
   "name": "python",
   "nbconvert_exporter": "python",
   "pygments_lexer": "ipython3",
   "version": "3.8.13"
  },
  "orig_nbformat": 4,
  "vscode": {
   "interpreter": {
    "hash": "54ed0f78649079cf20bb5506647846b8df1df8a8c2faa4b0fd9eeb14f2d6870a"
   }
  }
 },
 "nbformat": 4,
 "nbformat_minor": 2
}
