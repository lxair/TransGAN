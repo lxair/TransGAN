{
 "cells": [
  {
   "cell_type": "code",
   "execution_count": 1,
   "metadata": {},
   "outputs": [
    {
     "name": "stdout",
     "output_type": "stream",
     "text": [
      "ModuleNotFoundError. CatBoostModel are skipped. (optional: maybe installing CatBoostModel can fix it.)\n",
      "ModuleNotFoundError. XGBModel is skipped(optional: maybe installing xgboost can fix it).\n"
     ]
    },
    {
     "name": "stderr",
     "output_type": "stream",
     "text": [
      "/home/shared/anaconda3/envs/seg/lib/python3.8/site-packages/tqdm/auto.py:22: TqdmWarning: IProgress not found. Please update jupyter and ipywidgets. See https://ipywidgets.readthedocs.io/en/stable/user_install.html\n",
      "  from .autonotebook import tqdm as notebook_tqdm\n",
      "[36462:MainThread](2023-04-11 10:09:08,440) INFO - qlib.Initialization - [config.py:413] - default_conf: client.\n",
      "[36462:MainThread](2023-04-11 10:09:08,445) INFO - qlib.workflow - [expm.py:31] - experiment manager uri is at file:/home/shared/qlib-main/mlruns\n",
      "[36462:MainThread](2023-04-11 10:09:08,446) INFO - qlib.Initialization - [__init__.py:74] - qlib successfully initialized based on client settings.\n",
      "[36462:MainThread](2023-04-11 10:09:08,448) INFO - qlib.Initialization - [__init__.py:76] - data_path={'__DEFAULT_FREQ': PosixPath('/home/shared/qlib-main/qlib_data/cn_data')}\n",
      "[36462:MainThread](2023-04-11 10:09:08,487) INFO - qlib.TransGANModel - [transgan.py:87] - Naive TransGAN:\n",
      "batch_size : 256\n",
      "device : cuda:3\n",
      "[36462:MainThread](2023-04-11 10:09:16,824) INFO - qlib.timer - [log.py:117] - Time cost: 5.942s | Loading data Done\n",
      "[36462:MainThread](2023-04-11 10:09:16,835) INFO - qlib.timer - [log.py:117] - Time cost: 0.002s | FilterCol Done\n",
      "[36462:MainThread](2023-04-11 10:09:16,849) INFO - qlib.timer - [log.py:117] - Time cost: 0.012s | RobustZScoreNorm Done\n",
      "[36462:MainThread](2023-04-11 10:09:16,852) INFO - qlib.timer - [log.py:117] - Time cost: 0.002s | Fillna Done\n",
      "[36462:MainThread](2023-04-11 10:09:16,856) INFO - qlib.timer - [log.py:117] - Time cost: 0.002s | DropnaLabel Done\n",
      "[36462:MainThread](2023-04-11 10:09:16,868) INFO - qlib.timer - [log.py:117] - Time cost: 0.010s | CSRankNorm Done\n",
      "[36462:MainThread](2023-04-11 10:09:16,870) INFO - qlib.timer - [log.py:117] - Time cost: 0.044s | fit & process data Done\n",
      "[36462:MainThread](2023-04-11 10:09:16,872) INFO - qlib.timer - [log.py:117] - Time cost: 5.990s | Init data Done\n"
     ]
    }
   ],
   "source": [
    "import sys\n",
    "from pathlib import Path\n",
    "import qlib\n",
    "import pandas as pd\n",
    "from qlib.config import REG_CN\n",
    "from qlib.contrib.model.gbdt import LGBModel\n",
    "from qlib.contrib.data.handler import Alpha360\n",
    "from qlib.utils import init_instance_by_config\n",
    "from qlib.contrib.strategy import TopkDropoutStrategy\n",
    "from qlib.contrib.report import analysis_model, analysis_position\n",
    "# from qlib.contrib.evaluate import (\n",
    "#     backtest as normal_backtest,\n",
    "#     risk_analysis,\n",
    "# )\n",
    "from qlib.utils import exists_qlib_data, init_instance_by_config, flatten_dict\n",
    "from qlib.workflow import R\n",
    "from qlib.workflow.record_temp import SignalRecord, PortAnaRecord\n",
    "from qlib.utils import flatten_dict\n",
    "from qlib.data.dataset.loader import QlibDataLoader\n",
    "from qlib.contrib.data.handler import Alpha158   #Alpha158内置指标体系\n",
    "from qlib.data.dataset.loader import QlibDataLoader\n",
    "import qlib\n",
    "from qlib.contrib.data.handler import Alpha158   #Alpha158内置指标体系\n",
    "provider_uri = \"./qlib_data/cn_data\"  # 原始行情数据存放目录\n",
    "qlib.init(provider_uri=provider_uri, region=REG_CN)  # 初始化\n",
    "market = \"csi100\"\n",
    "benchmark = \"SH000300\"\n",
    "\n",
    " #数据处理器参数配置\n",
    "data_handler_config = {\n",
    "    \"start_time\": \"2020-01-01\",\n",
    "    \"end_time\": \"2020-02-21\",\n",
    "    \"fit_start_time\": \"2020-01-01\",  # 模型跑数据的开始时间\n",
    "    \"fit_end_time\": \"2020-01-31\",\n",
    "    \"instruments\": market,\n",
    "    \"infer_processors\" : [\n",
    "                                    {'class': 'FilterCol',##过滤器\n",
    "                                     'kwargs': {'fields_group': 'feature', 'col_list': [\"KMID\",\"KLOW\",\"OPEN0\"]\n",
    "                                     }},\n",
    "                                    {'class': 'RobustZScoreNorm', # RobustZScoreNorm和Fillna，用于进行标准化和填充缺失值。\n",
    "                                     'kwargs': {'fields_group': 'feature', 'clip_outlier': True}},\n",
    "                                    {'class': 'Fillna', 'kwargs': {'fields_group': 'feature'}}],\n",
    "    \"learn_processors\": [{'class': 'DropnaLabel'}, #DropnaLabel删除标注中含有缺失值的样本。\n",
    "\n",
    "                                    # 对预测的目标进行截面排序处理  DropnaLabel 和 CSRankNorm 预处理器，用于对标签进行处理。\n",
    "                                    {'class': 'CSRankNorm', 'kwargs': {'fields_group': 'label'}}],\n",
    "\n",
    "                                    # 预测的目标\n",
    "                                    'label': [\"Ref($close, -2) / Ref($close, -1) - 1\"] ,#下一日收益率, Ref($close, -1)表示下一日收盘价\n",
    "                                    #'label': ['Ref($close, -1)'],\n",
    "}\n",
    "    \n",
    "\n",
    "\n",
    "# 任务参数配置\n",
    "task = {\n",
    "    \"model\": {  # 模型参数配置\n",
    "        # 模型类\n",
    "        \"class\": \"TransGANModel\",\n",
    "        # 模型类所在模块\n",
    "        \"module_path\": \"qlib.contrib.model.transgan\",\n",
    "        \"kwargs\": {  # 模型超参数配置\n",
    "            \"hidden_size\": 4,\n",
    "            \"num_layers\" : 2,\n",
    "            \"nhead\" : 2,\n",
    "            \"learning_rate\" : 0.001,\n",
    "            \"num_epochs\" : 3,\n",
    "            \"batch_size\": 256,\n",
    "            \"optimizer_betas\" :(0.9,0.999),\n",
    "            \"evaluation_epoch_num\" :5 ,\n",
    "            \n",
    "        }, \n",
    "    },\n",
    "    \"dataset\": {  # 　因子库数据集参数配置\n",
    "        # 数据集类，是Dataset with Data(H)andler的缩写，即带数据处理器的数据集\n",
    "        \"class\": \"TSDatasetH\",\n",
    "        # 数据集类所在模块\n",
    "        \"module_path\": \"qlib.data.dataset\",\n",
    "        \"kwargs\": {  # 数据集参数配置\n",
    "            \"handler\": {  # 数据集使用的数据处理器配置\n",
    "                #\"class\": \"Alpha158\",  # 数据处理器类，继承自DataHandlerLP\n",
    "                \"module_path\": \"qlib.contrib.data.handler\",  # 数据处理器类所在模块\n",
    "                \"class\": \"Alpha158\",\n",
    "                \"kwargs\": data_handler_config,  # 数据处理器参数配置\n",
    "            },\n",
    "             \"segments\": {  # 数据集划分标准\n",
    "                \"train\": (\"2020-01-01\", \"2020-01-31\"),  # 此时段的数据为训练集\n",
    "                \"valid\": (\"2020-01-31\", \"2020-02-20\"),  # 此时段的数据为验证集\n",
    "                \"test\": (\"2020-02-20\", \"2020-02-21\"),  # 此时段的数据为测试集\n",
    "            },\n",
    "        },\n",
    "    },\n",
    "\n",
    "}\n",
    "\n",
    "# 实例化模型对象\n",
    "model = init_instance_by_config(task[\"model\"])\n",
    "\n",
    "# 实例化因子库数据集，从基础行情数据计算出的包含所有特征（因子）和标签值的数据集。\n",
    "dataset = init_instance_by_config(task[\"dataset\"])  # DatasetH\n"
   ]
  },
  {
   "cell_type": "code",
   "execution_count": 2,
   "metadata": {},
   "outputs": [
    {
     "name": "stderr",
     "output_type": "stream",
     "text": [
      "[36462:MainThread](2023-04-11 10:09:16,914) INFO - qlib.workflow - [expm.py:316] - <mlflow.tracking.client.MlflowClient object at 0x7f2d04046670>\n",
      "[36462:MainThread](2023-04-11 10:09:16,921) INFO - qlib.workflow - [exp.py:260] - Experiment 1 starts running ...\n",
      "[36462:MainThread](2023-04-11 10:09:17,216) INFO - qlib.workflow - [recorder.py:339] - Recorder aeaccffd8da14f62bb43409c7ede57b0 starts running under Experiment 1 ...\n",
      "Not a git repository\n",
      "To compare two paths outside a working tree:\n",
      "usage: git diff [--no-index] <path> <path>\n",
      "[36462:MainThread](2023-04-11 10:09:17,302) INFO - qlib.workflow - [recorder.py:372] - Fail to log the uncommitted code of $CWD when run `git diff`\n",
      "fatal: 不是一个 git 仓库（或者直至挂载点 / 的任何父目录）\n",
      "停止在文件系统边界（未设置 GIT_DISCOVERY_ACROSS_FILESYSTEM）。\n",
      "[36462:MainThread](2023-04-11 10:09:17,386) INFO - qlib.workflow - [recorder.py:372] - Fail to log the uncommitted code of $CWD when run `git status`\n",
      "Not a git repository\n",
      "To compare two paths outside a working tree:\n",
      "usage: git diff [--no-index] <path> <path>\n",
      "[36462:MainThread](2023-04-11 10:09:17,466) INFO - qlib.workflow - [recorder.py:372] - Fail to log the uncommitted code of $CWD when run `git diff --cached`\n",
      "[36462:MainThread](2023-04-11 10:09:17,508) INFO - qlib.TransformerModel - [pytorch_transformer_ts.py:62] - Naive Transformer:\n",
      "batch_size : 256\n",
      "device : cuda:3\n",
      "[36462:MainThread](2023-04-11 10:09:17,544) INFO - qlib.TransformerModel - [pytorch_transformer_ts.py:200] - training...\n",
      "[36462:MainThread](2023-04-11 10:09:17,546) INFO - qlib.TransformerModel - [pytorch_transformer_ts.py:204] - Epoch0:\n",
      "[36462:MainThread](2023-04-11 10:09:17,547) INFO - qlib.TransformerModel - [pytorch_transformer_ts.py:205] - training...\n",
      "[36462:MainThread](2023-04-11 10:09:19,171) INFO - qlib.TransformerModel - [pytorch_transformer_ts.py:207] - evaluating...\n",
      "[36462:MainThread](2023-04-11 10:09:20,614) INFO - qlib.TransformerModel - [pytorch_transformer_ts.py:210] - train -1.545018, valid -1.929209\n",
      "[36462:MainThread](2023-04-11 10:09:20,624) INFO - qlib.TransformerModel - [pytorch_transformer_ts.py:204] - Epoch1:\n",
      "[36462:MainThread](2023-04-11 10:09:20,626) INFO - qlib.TransformerModel - [pytorch_transformer_ts.py:205] - training...\n",
      "[36462:MainThread](2023-04-11 10:09:21,341) INFO - qlib.TransformerModel - [pytorch_transformer_ts.py:207] - evaluating...\n",
      "[36462:MainThread](2023-04-11 10:09:22,753) INFO - qlib.TransformerModel - [pytorch_transformer_ts.py:210] - train -1.210156, valid -1.401146\n",
      "[36462:MainThread](2023-04-11 10:09:22,762) INFO - qlib.TransformerModel - [pytorch_transformer_ts.py:204] - Epoch2:\n",
      "[36462:MainThread](2023-04-11 10:09:22,764) INFO - qlib.TransformerModel - [pytorch_transformer_ts.py:205] - training...\n",
      "[36462:MainThread](2023-04-11 10:09:23,489) INFO - qlib.TransformerModel - [pytorch_transformer_ts.py:207] - evaluating...\n",
      "[36462:MainThread](2023-04-11 10:09:24,866) INFO - qlib.TransformerModel - [pytorch_transformer_ts.py:210] - train -1.080457, valid -1.125412\n",
      "[36462:MainThread](2023-04-11 10:09:24,871) INFO - qlib.TransformerModel - [pytorch_transformer_ts.py:225] - best score: -1.125412 @ 2\n",
      "[36462:MainThread](2023-04-11 10:09:25,053) INFO - qlib.TransGANModel - [transgan.py:348] - Epoch [1/3]\n",
      "[36462:MainThread](2023-04-11 10:09:25,054) INFO - qlib.TransGANModel - [transgan.py:349] - Training...\n"
     ]
    },
    {
     "name": "stdout",
     "output_type": "stream",
     "text": [
      "Generator and discriminator are initialized\n"
     ]
    },
    {
     "name": "stderr",
     "output_type": "stream",
     "text": [
      "[36462:MainThread](2023-04-11 10:09:26,081) INFO - qlib.TransGANModel - [transgan.py:348] - Epoch [2/3]\n",
      "[36462:MainThread](2023-04-11 10:09:26,084) INFO - qlib.TransGANModel - [transgan.py:349] - Training...\n"
     ]
    },
    {
     "name": "stdout",
     "output_type": "stream",
     "text": [
      "Generator Loss: 0.8520, Discriminator Loss: 1.2923\n",
      "KMID | Real:0.4562 / Generated:-0.5304\n",
      "KLOW | Real:-0.8988 / Generated:0.0860\n",
      "OPEN0 | Real:-0.4531 / Generated:-0.8034\n",
      "Generator and discriminator are initialized\n"
     ]
    },
    {
     "name": "stderr",
     "output_type": "stream",
     "text": [
      "[36462:MainThread](2023-04-11 10:09:27,066) INFO - qlib.TransGANModel - [transgan.py:348] - Epoch [3/3]\n",
      "[36462:MainThread](2023-04-11 10:09:27,068) INFO - qlib.TransGANModel - [transgan.py:349] - Training...\n"
     ]
    },
    {
     "name": "stdout",
     "output_type": "stream",
     "text": [
      "Generator Loss: 0.7529, Discriminator Loss: 1.3872\n",
      "KMID | Real:-2.7210 / Generated:0.5889\n",
      "KLOW | Real:0.9312 / Generated:1.0020\n",
      "OPEN0 | Real:2.7878 / Generated:0.4040\n",
      "Generator and discriminator are initialized\n",
      "Generator Loss: 0.7463, Discriminator Loss: 1.3932\n",
      "KMID | Real:-2.0270 / Generated:0.8597\n",
      "KLOW | Real:0.1017 / Generated:0.7554\n",
      "OPEN0 | Real:2.0625 / Generated:0.1562\n"
     ]
    },
    {
     "name": "stderr",
     "output_type": "stream",
     "text": [
      "[36462:MainThread](2023-04-11 10:09:28,403) INFO - qlib.TransGANModel - [transgan.py:366] - training...\n",
      "[36462:MainThread](2023-04-11 10:09:28,405) INFO - qlib.TransGANModel - [transgan.py:370] - Epoch0:\n",
      "[36462:MainThread](2023-04-11 10:09:28,407) INFO - qlib.TransGANModel - [transgan.py:371] - training...\n",
      "[36462:MainThread](2023-04-11 10:09:29,549) INFO - qlib.TransGANModel - [transgan.py:374] - evaluating...\n",
      "[36462:MainThread](2023-04-11 10:09:31,503) INFO - qlib.TransGANModel - [transgan.py:378] - train -1.038126, valid -1.614328\n",
      "[36462:MainThread](2023-04-11 10:09:31,511) INFO - qlib.TransGANModel - [transgan.py:370] - Epoch1:\n",
      "[36462:MainThread](2023-04-11 10:09:31,512) INFO - qlib.TransGANModel - [transgan.py:371] - training...\n",
      "[36462:MainThread](2023-04-11 10:09:32,419) INFO - qlib.TransGANModel - [transgan.py:374] - evaluating...\n",
      "[36462:MainThread](2023-04-11 10:09:34,101) INFO - qlib.TransGANModel - [transgan.py:378] - train -1.316004, valid -1.409114\n",
      "[36462:MainThread](2023-04-11 10:09:34,109) INFO - qlib.TransGANModel - [transgan.py:370] - Epoch2:\n",
      "[36462:MainThread](2023-04-11 10:09:34,111) INFO - qlib.TransGANModel - [transgan.py:371] - training...\n",
      "[36462:MainThread](2023-04-11 10:09:34,927) INFO - qlib.TransGANModel - [transgan.py:374] - evaluating...\n",
      "[36462:MainThread](2023-04-11 10:09:36,839) INFO - qlib.TransGANModel - [transgan.py:378] - train -1.019322, valid -1.249885\n",
      "[36462:MainThread](2023-04-11 10:09:36,844) INFO - qlib.TransGANModel - [transgan.py:393] - best score: -1.249885 @ 2\n",
      "[36462:MainThread](2023-04-11 10:09:36,920) INFO - qlib.timer - [log.py:117] - Time cost: 0.000s | waiting `async_log` Done\n"
     ]
    }
   ],
   "source": [
    "# start exp to train model\n",
    "with R.start(experiment_name=\"train_model\"):\n",
    "    R.log_params(**flatten_dict(task))\n",
    "    model.fit(dataset)\n",
    "    R.save_objects(trained_model=model)\n",
    "    rid = R.get_recorder().id"
   ]
  },
  {
   "cell_type": "code",
   "execution_count": 3,
   "metadata": {},
   "outputs": [
    {
     "name": "stderr",
     "output_type": "stream",
     "text": [
      "[36462:MainThread](2023-04-11 10:09:36,967) INFO - qlib.workflow - [expm.py:316] - <mlflow.tracking.client.MlflowClient object at 0x7f2d040460a0>\n",
      "[36462:MainThread](2023-04-11 10:09:36,975) INFO - qlib.workflow - [exp.py:260] - Experiment 2 starts running ...\n",
      "[36462:MainThread](2023-04-11 10:09:37,177) INFO - qlib.workflow - [recorder.py:339] - Recorder bf9c0be204d847b280931da68e6bc805 starts running under Experiment 2 ...\n",
      "Not a git repository\n",
      "To compare two paths outside a working tree:\n",
      "usage: git diff [--no-index] <path> <path>\n",
      "[36462:MainThread](2023-04-11 10:09:37,295) INFO - qlib.workflow - [recorder.py:372] - Fail to log the uncommitted code of $CWD when run `git diff`\n",
      "fatal: 不是一个 git 仓库（或者直至挂载点 / 的任何父目录）\n",
      "停止在文件系统边界（未设置 GIT_DISCOVERY_ACROSS_FILESYSTEM）。\n",
      "[36462:MainThread](2023-04-11 10:09:37,415) INFO - qlib.workflow - [recorder.py:372] - Fail to log the uncommitted code of $CWD when run `git status`\n",
      "Not a git repository\n",
      "To compare two paths outside a working tree:\n",
      "usage: git diff [--no-index] <path> <path>\n",
      "[36462:MainThread](2023-04-11 10:09:37,530) INFO - qlib.workflow - [recorder.py:372] - Fail to log the uncommitted code of $CWD when run `git diff --cached`\n",
      "[36462:MainThread](2023-04-11 10:09:38,327) INFO - qlib.workflow - [record_temp.py:194] - Signal record 'pred.pkl' has been saved as the artifact of the Experiment 2\n",
      "[36462:MainThread](2023-04-11 10:09:38,350) INFO - qlib.backtest caller - [__init__.py:94] - Create new exchange\n"
     ]
    },
    {
     "name": "stdout",
     "output_type": "stream",
     "text": [
      "'The following are prediction results of the TransGANModel model.'\n",
      "                          score\n",
      "datetime   instrument          \n",
      "2020-02-20 SH600000    0.176197\n",
      "           SH600009   -0.873383\n",
      "           SH600010    0.268904\n",
      "           SH600011   -0.563702\n",
      "           SH600015   -0.351168\n"
     ]
    },
    {
     "name": "stderr",
     "output_type": "stream",
     "text": [
      "[36462:MainThread](2023-04-11 10:09:44,705) WARNING - qlib.online operator - [exchange.py:216] - factor.day.bin file not exists or factor contains `nan`. Order using adjusted_price.\n",
      "[36462:MainThread](2023-04-11 10:09:44,708) WARNING - qlib.online operator - [exchange.py:218] - trade unit 100 is not supported in adjusted_price mode.\n",
      "[36462:MainThread](2023-04-11 10:09:49,609) WARNING - qlib.data - [data.py:662] - load calendar error: freq=day, future=True; return current calendar!\n",
      "[36462:MainThread](2023-04-11 10:09:49,612) WARNING - qlib.data - [data.py:665] - You can get future calendar by referring to the following document: https://github.com/microsoft/qlib/blob/main/scripts/data_collector/contrib/README.md\n",
      "[36462:MainThread](2023-04-11 10:09:49,643) WARNING - qlib.BaseExecutor - [executor.py:121] - `common_infra` is not set for <qlib.backtest.executor.SimulatorExecutor object at 0x7f2cdf8168b0>\n",
      "backtest loop: 100%|██████████| 871/871 [00:01<00:00, 462.72it/s]\n",
      "[36462:MainThread](2023-04-11 10:09:51,782) INFO - qlib.workflow - [record_temp.py:499] - Portfolio analysis record 'port_analysis_1day.pkl' has been saved as the artifact of the Experiment 2\n",
      "[36462:MainThread](2023-04-11 10:09:51,795) INFO - qlib.workflow - [record_temp.py:524] - Indicator analysis record 'indicator_analysis_1day.pkl' has been saved as the artifact of the Experiment 2\n",
      "[36462:MainThread](2023-04-11 10:09:51,836) INFO - qlib.timer - [log.py:117] - Time cost: 0.018s | waiting `async_log` Done\n"
     ]
    },
    {
     "name": "stdout",
     "output_type": "stream",
     "text": [
      "'The following are analysis results of benchmark return(1day).'\n",
      "                       risk\n",
      "mean               0.000477\n",
      "std                0.012295\n",
      "annualized_return  0.113561\n",
      "information_ratio  0.598699\n",
      "max_drawdown      -0.370479\n",
      "'The following are analysis results of the excess return without cost(1day).'\n",
      "                       risk\n",
      "mean              -0.000335\n",
      "std                0.011010\n",
      "annualized_return -0.079657\n",
      "information_ratio -0.468960\n",
      "max_drawdown      -0.413520\n",
      "'The following are analysis results of the excess return with cost(1day).'\n",
      "                       risk\n",
      "mean              -0.000335\n",
      "std                0.011010\n",
      "annualized_return -0.079845\n",
      "information_ratio -0.470063\n",
      "max_drawdown      -0.414206\n",
      "'The following are analysis results of indicators(1day).'\n",
      "     value\n",
      "ffr    1.0\n",
      "pa     0.0\n",
      "pos    0.0\n"
     ]
    }
   ],
   "source": [
    "###################################\n",
    "# prediction, backtest & analysis\n",
    "###################################\n",
    "port_analysis_config = {\n",
    "    \"executor\": {\n",
    "        \"class\": \"SimulatorExecutor\",\n",
    "        \"module_path\": \"qlib.backtest.executor\",\n",
    "        \"kwargs\": {\n",
    "            \"time_per_step\": \"day\",\n",
    "            \"generate_portfolio_metrics\": True,\n",
    "        },\n",
    "    },\n",
    "    \"strategy\": {\n",
    "        \"class\": \"TopkDropoutStrategy\",\n",
    "        \"module_path\": \"qlib.contrib.strategy\",\n",
    "        \"kwargs\": {\n",
    "            \"model\": model,\n",
    "            \"dataset\": dataset,\n",
    "            \"topk\": 50,\n",
    "            \"n_drop\": 5,\n",
    "        },\n",
    "    },\n",
    "    \"backtest\": {\n",
    "        \"start_time\": \"2017-01-01\",\n",
    "        \"end_time\": \"2020-08-01\",\n",
    "        \"account\": 100000000,\n",
    "        \"benchmark\": benchmark,\n",
    "        \"exchange_kwargs\": {\n",
    "            \"freq\": \"day\",\n",
    "            \"limit_threshold\": 0.095,\n",
    "            \"deal_price\": \"close\",\n",
    "            \"open_cost\": 0.0005,\n",
    "            \"close_cost\": 0.0015,\n",
    "            \"min_cost\": 5,\n",
    "        },\n",
    "    },\n",
    "}\n",
    "\n",
    "# backtest and analysis\n",
    "with R.start(experiment_name=\"backtest_analysis\"):\n",
    "    recorder = R.get_recorder(recorder_id=rid, experiment_name=\"train_model\")\n",
    "    model = recorder.load_object(\"trained_model\")\n",
    "\n",
    "    # prediction\n",
    "    recorder = R.get_recorder()\n",
    "    ba_rid = recorder.id\n",
    "    sr = SignalRecord(model, dataset, recorder)\n",
    "    sr.generate()\n",
    "\n",
    "    # backtest & analysis\n",
    "    par = PortAnaRecord(recorder, port_analysis_config, \"day\")\n",
    "    par.generate()"
   ]
  },
  {
   "cell_type": "code",
   "execution_count": 4,
   "metadata": {},
   "outputs": [
    {
     "name": "stdout",
     "output_type": "stream",
     "text": [
      "                          score     label\n",
      "datetime   instrument                    \n",
      "2020-02-20 SH600000    0.176197 -0.012389\n",
      "           SH600009   -0.873383 -0.038657\n",
      "           SH600010    0.268904 -0.008197\n",
      "           SH600011   -0.563702 -0.014000\n",
      "           SH600015   -0.351168 -0.005563\n",
      "...                         ...       ...\n",
      "2020-02-21 SZ002594   -0.209338  0.070242\n",
      "           SZ002736    0.184976 -0.002357\n",
      "           SZ300015    0.699010 -0.007494\n",
      "           SZ300059   -0.334402  0.069132\n",
      "           SZ300498    0.193667  0.006787\n",
      "\n",
      "[200 rows x 2 columns]\n"
     ]
    }
   ],
   "source": [
    "\n",
    "# 从实验记录器加载保存在pkl文件中的预测结果数据\n",
    "pred_df = recorder.load_object(\"pred.pkl\")\n",
    "\n",
    "# 从实验记录器加载保存在pkl文件中的标签数据\n",
    "label_df = recorder.load_object(\"label.pkl\")\n",
    "label_df.columns = ['label']\n",
    "\n",
    "# 构造预测值和标签值并列的df\n",
    "pred_label = pd.concat([pred_df, label_df], axis=1, sort=True).reindex(label_df.index)\n",
    "\n",
    "print(pred_label)"
   ]
  },
  {
   "cell_type": "code",
   "execution_count": 5,
   "metadata": {},
   "outputs": [
    {
     "data": {
      "text/plain": [
       "88"
      ]
     },
     "execution_count": 5,
     "metadata": {},
     "output_type": "execute_result"
    }
   ],
   "source": [
    "import numpy as np\n",
    "# 计算预测值和标签值的正负号\n",
    "pred_sign = np.sign(pred_label[\"score\"])\n",
    "label_sign = np.sign(pred_label[\"label\"])\n",
    "\n",
    "# 统计正负号相同的数量\n",
    "same_sign_count = np.sum(pred_sign == label_sign)\n",
    "same_sign_count"
   ]
  },
  {
   "cell_type": "code",
   "execution_count": 6,
   "metadata": {},
   "outputs": [
    {
     "data": {
      "text/plain": [
       "0.44"
      ]
     },
     "execution_count": 6,
     "metadata": {},
     "output_type": "execute_result"
    }
   ],
   "source": [
    "# 计算出两列数据正负号相同的比例\n",
    "corr_pct = (pred_label['score'] * pred_label['label'] > 0).mean()\n",
    "corr_pct"
   ]
  }
 ],
 "metadata": {
  "kernelspec": {
   "display_name": "seg",
   "language": "python",
   "name": "python3"
  },
  "language_info": {
   "codemirror_mode": {
    "name": "ipython",
    "version": 3
   },
   "file_extension": ".py",
   "mimetype": "text/x-python",
   "name": "python",
   "nbconvert_exporter": "python",
   "pygments_lexer": "ipython3",
   "version": "3.8.13"
  },
  "orig_nbformat": 4
 },
 "nbformat": 4,
 "nbformat_minor": 2
}
